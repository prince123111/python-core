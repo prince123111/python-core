{
 "cells": [
  {
   "cell_type": "markdown",
   "id": "e20e37dc",
   "metadata": {},
   "source": [
    "# $OOPS$\n"
   ]
  },
  {
   "cell_type": "markdown",
   "id": "53a5461c",
   "metadata": {},
   "source": [
    "Like other general-purpose programming languages, Python is also an object-oriented language since its beginning. \n",
    "It allows us to develop applications using an Object-Oriented approach. In Python, we can easily create and use classes \n",
    "and objects.\n",
    "\n",
    "An object-oriented paradigm is to design the program using classes and objects. \n",
    "The object is related to real-word entities such as book, house, pencil, etc. The oops concept focuses \n",
    "on writing the reusable code. It is a widespread technique to solve the problem by creating objects.\n",
    "\n",
    "\n",
    "* Class\n",
    "* Object\n",
    "* Method\n",
    "* Inheritance\n",
    "* Polymorphism\n",
    "* Data Abstraction\n",
    "* Encapsulation\n",
    "* Class\n",
    "1. The class can be defined as a collection of objects. It is a logical entity that has some specific attributes and methods. For example: if you have an employee class, then it should contain an attribute and method, i.e. an email id, name, age, salary, etc.\n",
    "\n",
    "2. Method\n",
    "* The method is a function that is associated with an object. In Python, a method is not unique to class instances. Any object type can have methods.\n",
    "\n",
    "3. Inheritance\n",
    "* Inheritance is the most important aspect of object-oriented programming, which simulates the real-world concept of inheritance. It specifies that the child object acquires all the properties and behaviors of the parent object."
   ]
  },
  {
   "cell_type": "markdown",
   "id": "612c5f7a",
   "metadata": {},
   "source": [
    "It is an excellent representation of relationships in the real world.\n",
    "It allows code reuse. It doesn't require us to create the same code repeatedly and again.\n",
    "It also allows us to add options to an existing class without having to modify the existing code.\n",
    "It is a transitive nature, meaning that if B is inherited from another class A, all the subclasses belonging \n",
    "to B will inherit directly from class A.\n",
    "\n",
    "\n",
    "### Single Inheritance \n",
    "* Single inheritance allows a derivate class to inherit properties of one parent class,and this allows code\n",
    "reuse and the introduction of additional features in existing code.\n",
    "  \n",
    "### Multiple Inheritance\n",
    "* If a class is able to be created from multiple base classes, this kind of Inheritance is known as multiple Inheritance. When there is multiple Inheritance, each of the attributes that are present in the classes of the base has been passed on to the class that is derived from it.\n",
    "\n",
    "### Multilevel inheritance, \n",
    "* the features that are part of the original class, as well as the class that is derived from it, are passed on to the new class. It is similar to a relationship involving grandparents and children."
   ]
  },
  {
   "cell_type": "code",
   "execution_count": null,
   "id": "d21b482a",
   "metadata": {},
   "outputs": [],
   "source": []
  },
  {
   "cell_type": "code",
   "execution_count": 5,
   "id": "eb66ae64",
   "metadata": {},
   "outputs": [],
   "source": [
    "#class  A  ------------>  class B"
   ]
  },
  {
   "cell_type": "code",
   "execution_count": 8,
   "id": "2bc49d2a",
   "metadata": {},
   "outputs": [],
   "source": [
    "class A():\n",
    "    def rev(self,x):\n",
    "        self.x = x\n",
    "        self.y = x[-1::-1]\n",
    "        \n",
    "    def cap(self,z):\n",
    "        self.z = z\n",
    "        self.m = z.upper()\n",
    "        \n",
    "        "
   ]
  },
  {
   "cell_type": "code",
   "execution_count": 11,
   "id": "bf8c20ad",
   "metadata": {},
   "outputs": [],
   "source": [
    "c = A()\n",
    "c.rev(\"akansha\")\n",
    "c.cap(\"nitin\")"
   ]
  },
  {
   "cell_type": "code",
   "execution_count": 10,
   "id": "53d06601",
   "metadata": {},
   "outputs": [
    {
     "name": "stdout",
     "output_type": "stream",
     "text": [
      "Revese the Text : ahsnaka\n"
     ]
    }
   ],
   "source": [
    "print(\"Revese the Text :\",c.y)"
   ]
  },
  {
   "cell_type": "code",
   "execution_count": 12,
   "id": "1dbec9f1",
   "metadata": {},
   "outputs": [
    {
     "name": "stdout",
     "output_type": "stream",
     "text": [
      "Capital letter text :   NITIN\n"
     ]
    }
   ],
   "source": [
    "print(\"Capital letter text :  \",c.m)"
   ]
  },
  {
   "cell_type": "code",
   "execution_count": null,
   "id": "95f9658a",
   "metadata": {},
   "outputs": [],
   "source": []
  },
  {
   "cell_type": "code",
   "execution_count": null,
   "id": "20c0b27d",
   "metadata": {},
   "outputs": [],
   "source": []
  },
  {
   "cell_type": "code",
   "execution_count": 15,
   "id": "ba60d1b5",
   "metadata": {},
   "outputs": [],
   "source": [
    "class A():\n",
    "    def table(self,x):\n",
    "        self.x = x\n",
    "        for i in range(1,11):\n",
    "            print(f\"{i} X {x} = {i*x}\")\n",
    "\n",
    "class B(A):\n",
    "    def even(self,y):\n",
    "        self.y = y\n",
    "        for i in range(y):\n",
    "            if i%2==0:\n",
    "                print(\"Even Number :\",i)"
   ]
  },
  {
   "cell_type": "code",
   "execution_count": 19,
   "id": "c4fe50ad",
   "metadata": {},
   "outputs": [],
   "source": [
    "c = B()"
   ]
  },
  {
   "cell_type": "code",
   "execution_count": 20,
   "id": "85aa60e8",
   "metadata": {},
   "outputs": [
    {
     "name": "stdout",
     "output_type": "stream",
     "text": [
      "1 X 5 = 5\n",
      "2 X 5 = 10\n",
      "3 X 5 = 15\n",
      "4 X 5 = 20\n",
      "5 X 5 = 25\n",
      "6 X 5 = 30\n",
      "7 X 5 = 35\n",
      "8 X 5 = 40\n",
      "9 X 5 = 45\n",
      "10 X 5 = 50\n"
     ]
    }
   ],
   "source": [
    "c.table(5)"
   ]
  },
  {
   "cell_type": "code",
   "execution_count": 21,
   "id": "994e182d",
   "metadata": {},
   "outputs": [
    {
     "name": "stdout",
     "output_type": "stream",
     "text": [
      "Even Number : 0\n",
      "Even Number : 2\n",
      "Even Number : 4\n",
      "Even Number : 6\n",
      "Even Number : 8\n",
      "Even Number : 10\n",
      "Even Number : 12\n",
      "Even Number : 14\n",
      "Even Number : 16\n",
      "Even Number : 18\n"
     ]
    }
   ],
   "source": [
    "c.even(20)"
   ]
  },
  {
   "cell_type": "code",
   "execution_count": null,
   "id": "30cd22ad",
   "metadata": {},
   "outputs": [],
   "source": []
  },
  {
   "cell_type": "code",
   "execution_count": 22,
   "id": "3265f0f7",
   "metadata": {},
   "outputs": [],
   "source": [
    "#  __init__ function :- its call the function without function name"
   ]
  },
  {
   "cell_type": "code",
   "execution_count": 26,
   "id": "fa1eedc1",
   "metadata": {},
   "outputs": [],
   "source": [
    "class A():\n",
    "    def __init__(self,x,y):\n",
    "        self.x = x\n",
    "        self.y = y\n",
    "        self.z = x % y\n",
    "        "
   ]
  },
  {
   "cell_type": "code",
   "execution_count": 28,
   "id": "b8ce1ea6",
   "metadata": {},
   "outputs": [
    {
     "name": "stdout",
     "output_type": "stream",
     "text": [
      "Modules :-  14\n"
     ]
    }
   ],
   "source": [
    "c = A(89,15)\n",
    "\n",
    "print(\"Modules :- \",c.z)"
   ]
  },
  {
   "cell_type": "code",
   "execution_count": null,
   "id": "d885b14e",
   "metadata": {},
   "outputs": [],
   "source": []
  },
  {
   "cell_type": "code",
   "execution_count": 31,
   "id": "3a169908",
   "metadata": {},
   "outputs": [],
   "source": [
    "class A():\n",
    "    def __init__(self,name):\n",
    "        self.name = name\n",
    "\n",
    "class B(A):\n",
    "    def __init__(self,name,age):\n",
    "        A.__init__(self,name)\n",
    "        self.name = name\n",
    "        self.age = age\n",
    "        \n",
    "        print(\"Hii My name is :\",name)\n",
    "        print('I am',age,\"year old\")"
   ]
  },
  {
   "cell_type": "code",
   "execution_count": 32,
   "id": "e64107dc",
   "metadata": {},
   "outputs": [
    {
     "name": "stdout",
     "output_type": "stream",
     "text": [
      "Hii My name is : prince sharma\n",
      "I am 24 year old\n"
     ]
    }
   ],
   "source": [
    "c = B(\"prince sharma\",24)"
   ]
  },
  {
   "cell_type": "code",
   "execution_count": null,
   "id": "6bfa504c",
   "metadata": {},
   "outputs": [],
   "source": []
  },
  {
   "cell_type": "markdown",
   "id": "893fa045",
   "metadata": {},
   "source": [
    "# Multipule Inheritance"
   ]
  },
  {
   "cell_type": "code",
   "execution_count": 40,
   "id": "7bfbeed9",
   "metadata": {},
   "outputs": [],
   "source": [
    "class A():\n",
    "    def first(self,x):\n",
    "        self.x = x\n",
    "        print(\"Name : \",x)\n",
    "    \n",
    "class B(A):\n",
    "    def second(self,y):\n",
    "        self.y = y\n",
    "        print(\"Age  : \",y)\n",
    "    \n",
    "class C(B):\n",
    "    def third(self,z):\n",
    "        self.z = z\n",
    "        print(\"City : \",z)"
   ]
  },
  {
   "cell_type": "code",
   "execution_count": 41,
   "id": "728702b4",
   "metadata": {},
   "outputs": [
    {
     "name": "stdout",
     "output_type": "stream",
     "text": [
      "Name :  Viart kohli\n",
      "Age  :  35\n",
      "City :  Delhi\n"
     ]
    }
   ],
   "source": [
    "c = C()\n",
    "c.first(\"Viart kohli\")\n",
    "c.second(35)\n",
    "c.third(\"Delhi\")"
   ]
  },
  {
   "cell_type": "code",
   "execution_count": null,
   "id": "3a692484",
   "metadata": {},
   "outputs": [],
   "source": []
  },
  {
   "cell_type": "markdown",
   "id": "b6b495c8",
   "metadata": {},
   "source": [
    "# Hybrid Inheritance"
   ]
  },
  {
   "cell_type": "code",
   "execution_count": 44,
   "id": "20c6a529",
   "metadata": {},
   "outputs": [],
   "source": [
    "class A():\n",
    "    def first(self,x):\n",
    "        self.x = x\n",
    "        print(\"Name : \",x)\n",
    "    \n",
    "class B():\n",
    "    def second(self,y):\n",
    "        self.y = y\n",
    "        print(\"Age  : \",y)\n",
    "    \n",
    "class C(A,B):\n",
    "    def third(self,z):\n",
    "        self.z = z\n",
    "        print(\"City : \",z)"
   ]
  },
  {
   "cell_type": "code",
   "execution_count": 46,
   "id": "3000c66c",
   "metadata": {},
   "outputs": [
    {
     "name": "stdout",
     "output_type": "stream",
     "text": [
      "Name :  Viart kohli\n",
      "Age  :  35\n",
      "City :  Delhi\n"
     ]
    }
   ],
   "source": [
    "c = C()\n",
    "c.first(\"Viart kohli\")\n",
    "c.second(35)\n",
    "c.third(\"Delhi\")"
   ]
  },
  {
   "cell_type": "code",
   "execution_count": null,
   "id": "9cb7b10c",
   "metadata": {},
   "outputs": [],
   "source": []
  },
  {
   "cell_type": "code",
   "execution_count": null,
   "id": "98ee87ee",
   "metadata": {},
   "outputs": [],
   "source": []
  },
  {
   "cell_type": "code",
   "execution_count": 50,
   "id": "327f4d34",
   "metadata": {},
   "outputs": [],
   "source": [
    "class First():\n",
    "    def __init__(self,a):\n",
    "        self.a = a\n",
    "\n",
    "class Second():\n",
    "    def __init__(self,b):\n",
    "        self.b = b\n",
    "        \n",
    "class third(First,Second):\n",
    "    def __init__(self,a,b,c):\n",
    "        First.__init__(self,a)\n",
    "        Second.__init__(self,b)\n",
    "        self.c = c\n",
    "        \n",
    "        \n",
    "        print(\"name :\",a)\n",
    "        print(\"age :\",b)\n",
    "        print(\"City :\",c)"
   ]
  },
  {
   "cell_type": "code",
   "execution_count": 52,
   "id": "93677792",
   "metadata": {},
   "outputs": [
    {
     "name": "stdout",
     "output_type": "stream",
     "text": [
      "name : Rohit sharma\n",
      "age : 38\n",
      "City : Mumbai\n"
     ]
    }
   ],
   "source": [
    "k = third(\"Rohit sharma\",38,\"Mumbai\")"
   ]
  },
  {
   "cell_type": "code",
   "execution_count": null,
   "id": "a5c9fdf5",
   "metadata": {},
   "outputs": [],
   "source": []
  }
 ],
 "metadata": {
  "kernelspec": {
   "display_name": "Python 3 (ipykernel)",
   "language": "python",
   "name": "python3"
  },
  "language_info": {
   "codemirror_mode": {
    "name": "ipython",
    "version": 3
   },
   "file_extension": ".py",
   "mimetype": "text/x-python",
   "name": "python",
   "nbconvert_exporter": "python",
   "pygments_lexer": "ipython3",
   "version": "3.10.9"
  }
 },
 "nbformat": 4,
 "nbformat_minor": 5
}
